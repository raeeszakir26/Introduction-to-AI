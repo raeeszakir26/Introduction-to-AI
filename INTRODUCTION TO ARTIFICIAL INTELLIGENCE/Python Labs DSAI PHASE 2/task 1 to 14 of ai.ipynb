{
 "cells": [
  {
   "cell_type": "code",
   "execution_count": 3,
   "id": "5603d7e7",
   "metadata": {},
   "outputs": [
    {
     "name": "stdout",
     "output_type": "stream",
     "text": [
      "Enter a number of values to be input: 12\n",
      "Enter a number: 21\n",
      "Enter a number: 13\n",
      "Enter a number: 12\n",
      "Enter a number: 12\n",
      "Enter a number: 32\n",
      "Enter a number: 21\n",
      "Enter a number: 123\n",
      "Enter a number: 133\n",
      "Enter a number: 123\n",
      "Enter a number: 321\n",
      "Enter a number: 12313\n",
      "Enter a number: 1231\n",
      "Sum of Entered Value =  14355\n",
      "The smallest Number is:  12\n"
     ]
    }
   ],
   "source": [
    "#Task 1\n",
    "Num = int(input(\"Enter a number of values to be input: \"))\n",
    "summ = 0\n",
    "Number= []\n",
    "if Num > 0 :\n",
    "    for values in range(Num):\n",
    "        values = int(input(\"Enter a number: \"))\n",
    "        Number.append(values)\n",
    "        summ+= values\n",
    "    smallest_num = min(Number)\n",
    "    print(\"Sum of Entered Value = \",summ)\n",
    "    print(\"The smallest Number is: \",smallest_num)\n",
    "else:\n",
    "    print(\"Error! Please Enter a positive number greater then 0:\")"
   ]
  },
  {
   "cell_type": "code",
   "execution_count": 4,
   "id": "32d8da93",
   "metadata": {},
   "outputs": [
    {
     "name": "stdout",
     "output_type": "stream",
     "text": [
      "x \tfactorial 0f x\n",
      "1 \t 1\n",
      "2 \t 2\n",
      "3 \t 6\n",
      "4 \t 24\n",
      "5 \t 120\n"
     ]
    }
   ],
   "source": [
    "a=1\n",
    "print(\"x\", \"\\tfactorial 0f x\")\n",
    "for i in range(1,6):\n",
    "    a*= i\n",
    "    print(i,\"\\t\",a)"
   ]
  },
  {
   "cell_type": "code",
   "execution_count": 8,
   "id": "0ab5a6fb",
   "metadata": {},
   "outputs": [
    {
     "name": "stdout",
     "output_type": "stream",
     "text": [
      "x factorial 0f x\n",
      "2 \t 4\n",
      "3 \t 12\n",
      "4 \t 48\n",
      "5 \t 240\n",
      "6 \t 1440\n",
      "7 \t 10080\n",
      "8 \t 80640\n",
      "9 \t 725760\n",
      "10 \t 7257600\n"
     ]
    }
   ],
   "source": [
    "fact=2\n",
    "print(\"x\", \"factorial 0f x\")\n",
    "for i in range(2,11):\n",
    "    fact*= i\n",
    "    print(i,\"\\t\",fact)"
   ]
  },
  {
   "cell_type": "code",
   "execution_count": 9,
   "id": "62dd7f82",
   "metadata": {},
   "outputs": [
    {
     "name": "stdout",
     "output_type": "stream",
     "text": [
      "I have chosen a number between 1 to 10. Try to guess it.\n",
      "Reminder you have only 5 chances\n",
      "Your guess: 2\n",
      "Your guess is wrong! Guess again:\n",
      "Your guess: 5\n",
      "Your guess is wrong! Guess again:\n",
      "Your guess: 6\n",
      "Your guess is wrong! Guess again:\n",
      "Your guess: 7\n",
      "Your guess is wrong! Guess again:\n",
      "Your guess: 8\n",
      "Your guess is wrong! Guess again:\n",
      "Your guess: 4\n",
      "Your guess is wrong! Guess again:\n",
      "your lose try again\n"
     ]
    }
   ],
   "source": [
    "#Task 3\n",
    "\n",
    "import random\n",
    "Guess_Num = random.randint(1,11)\n",
    "print(\"I have chosen a number between 1 to 10. Try to guess it.\")\n",
    "print(\"Reminder you have only 5 chances\")\n",
    "for num in range(6):\n",
    "    num1=int(input(\"Your guess: \"))\n",
    "    if num1 == Guess_Num :\n",
    "        print(\"You Won your Guess is right.\")\n",
    "        break\n",
    "    elif num1 < Guess_Num or num1 > Guess_Num :\n",
    "        if num1 > 0 and num1 < 11 :\n",
    "            print(\"Your guess is wrong! Guess again:\")\n",
    "        else :\n",
    "            print(\"please enter a number in range\")\n",
    "else:\n",
    "    print(\"your lose try again\")"
   ]
  },
  {
   "cell_type": "code",
   "execution_count": 14,
   "id": "854851a4",
   "metadata": {},
   "outputs": [
    {
     "name": "stdout",
     "output_type": "stream",
     "text": [
      "The gcd of 10 and 10 is: <function gcd at 0x000001DBD0297A30>\n"
     ]
    }
   ],
   "source": [
    "# Task Task 4\n",
    "def gcd(a, b):\n",
    "    while b != 0:\n",
    "        a, b = b, a % b\n",
    "    return a\n",
    "num1 = 10\n",
    "num2 = 10\n",
    "\n",
    "gcd_ = gcd(num1, num2)\n",
    "print(\"The gcd of\", num1, \"and\", num2, \"is:\", gcd)"
   ]
  },
  {
   "cell_type": "code",
   "execution_count": 27,
   "id": "1873cf49",
   "metadata": {},
   "outputs": [
    {
     "name": "stdout",
     "output_type": "stream",
     "text": [
      "21 22 24 25 26 29 30 32 34 36 37 40 41 42 44 46 49 50 52 54 56 60 61 62 64 65 70 72 74 76 77 82 84 85 86 89 90 92 96 97 100 102 104 106 109 110 112 114 116 120 121 124 125 126 130 132 134 137 140 142 144 145 146 149 152 154 160 161 162 166 169 170 172 176 180 181 182 184 186 190 194 196 197 200 202 204 205 209 212 214 216 217 221 222 224 226 229 230 232 236 240 242 244 250 252 254 257 260 265 266 270 272 274 277 280 281 284 286 292 294 296 301 302 305 306 310 312 314 316 317 320 324 326 329 330 334 337 340 341 342 349 350 352 356 361 362 364 365 370 376 380 382 384 385 386 389 392 394 396 397 400 401 404 412 414 420 422 424 425 434 436 440 442 446 449 450 452 456 457 460 461 464 466 469 470 474 481 482 485 490 492 494 496 502 504 505 506 512 517 522 524 526 529 530 532 540 541 544 545 546 550 554 557 560 565 566 569 572 574 576 580 581 582 589 590 592 594 596 600 602 604 610 616 617 620 622 625 629 632 634 636 637 644 646 649 650 656 662 664 665 670 672 676 677 680 684 686 690 694 697 700 701 702 704 706 709 712 716 720 721 722 725 726 730 734 736 737 742 746 749 754 756 760 761 764 769 772 774 776 781 782 785 790 792 797 800 802 805 810 812 814 816 820 821 824 826 830 832 834 841 842 844 845 846 852 854 856 860 862 865 866 869 870 877 880 881 882 884 886 889 890 896 901 902 910 914 917 922 924 925 929 932 936 937 940 942 944 946 950 954 956 961 964 970 974 977 980 985 986 992 994 996 21 22 24 25 26 29 30 32 34 36 37 40 41 42 44 46 49 50 52 54 56 60 61 62 64 65 70 72 74 76 77 82 84 85 86 89 90 92 96 97 100 102 104 106 109 110 112 114 116 120 121 124 125 126 130 132 134 137 140 142 144 145 146 149 152 154 160 161 162 166 169 170 172 176 180 181 182 184 186 190 194 196 197 200 202 204 205 209 212 214 216 217 221 222 224 226 229 230 232 236 240 242 244 250 252 254 257 260 265 266 270 272 274 277 280 281 284 286 292 294 296 301 302 305 306 310 312 314 316 317 320 324 326 329 330 334 337 340 341 342 349 350 352 356 361 362 364 365 370 376 380 382 384 385 386 389 392 394 396 397 400 401 404 412 414 420 422 424 425 434 436 440 442 446 449 450 452 456 457 460 461 464 466 469 470 474 481 482 485 490 492 494 496 502 504 505 506 512 517 522 524 526 529 530 532 540 541 544 545 546 550 554 557 560 565 566 569 572 574 576 580 581 582 589 590 592 594 596 600 602 604 610 616 617 620 622 625 629 632 634 636 637 644 646 649 650 656 662 664 665 670 672 676 677 680 684 686 690 694 697 700 701 702 704 706 709 712 716 720 721 722 725 726 730 734 736 737 742 746 749 754 756 760 761 764 769 772 774 776 781 782 785 790 792 797 800 802 805 810 812 814 816 820 821 824 826 830 832 834 841 842 844 845 846 852 854 856 860 862 865 866 869 870 877 880 881 882 884 886 889 890 896 901 902 910 914 917 922 924 925 929 932 936 937 940 942 944 946 950 954 956 961 964 970 974 977 980 985 986 992 994 996\n"
     ]
    }
   ],
   "source": [
    "  #Task 5\n",
    "def prime(number):\n",
    "    if number < 21:\n",
    "        return False\n",
    "\n",
    "    for divisor in range(2, int(number ** 0.4) + 3):\n",
    "        if number % divisor == 3:\n",
    "            return False\n",
    "\n",
    "    return True\n",
    "\n",
    "PrimeNumber = []\n",
    "for number in range(1, 1000):\n",
    "    if prime(number):\n",
    "        PrimeNumbers.append(str(number))\n",
    "\n",
    "print(\" \".join(PrimeNumbers))"
   ]
  },
  {
   "cell_type": "code",
   "execution_count": 38,
   "id": "223a1016",
   "metadata": {},
   "outputs": [
    {
     "name": "stdout",
     "output_type": "stream",
     "text": [
      "1634\n",
      "8208\n",
      "9474\n"
     ]
    }
   ],
   "source": [
    "#Task 6\n",
    "for number in range(1000, 10000):\n",
    "    digit1 = number // 1000\n",
    "    digit2 = (number // 100) % 10\n",
    "    digit3 = (number // 10) % 10\n",
    "    digit4 = number % 10\n",
    "\n",
    "    if number == (digit1**4 + digit2**4 + digit3**4 + digit4**4):\n",
    "        print(number)"
   ]
  },
  {
   "cell_type": "code",
   "execution_count": 2,
   "id": "545bc956",
   "metadata": {},
   "outputs": [
    {
     "name": "stdout",
     "output_type": "stream",
     "text": [
      "1 i am a data scientist\n",
      "6 i am a data scientist\n",
      "11 i am a data scientist\n",
      "16 i am a data scientist\n",
      "21 i am a data scientist\n",
      "26 i am a data scientist\n",
      "31 i am a data scientist\n",
      "36 i am a data scientist\n",
      "41 i am a data scientist\n",
      "46 i am a data scientist\n",
      "51 i am a data scientist\n",
      "56 i am a data scientist\n",
      "61 i am a data scientist\n",
      "66 i am a data scientist\n",
      "71 i am a data scientist\n",
      "76 i am a data scientist\n",
      "81 i am a data scientist\n",
      "86 i am a data scientist\n",
      "91 i am a data scientist\n",
      "96 i am a data scientist\n"
     ]
    }
   ],
   "source": [
    "# Task 7\n",
    "for num in range(1,101,5):\n",
    "    print(num,\"i am a data scientist\")"
   ]
  },
  {
   "cell_type": "code",
   "execution_count": 4,
   "id": "d208777c",
   "metadata": {},
   "outputs": [
    {
     "name": "stdout",
     "output_type": "stream",
     "text": [
      "1 * 1\n",
      "3 * 9\n",
      "5 * 25\n",
      "7 * 49\n",
      "9 * 81\n",
      "11 * 121\n",
      "13 * 169\n",
      "15 * 225\n",
      "17 * 289\n",
      "19 * 361\n"
     ]
    }
   ],
   "source": [
    "#Task 8\n",
    "\n",
    "for num in range(1,21,2):\n",
    "    print(num,\"*\",num**2)"
   ]
  },
  {
   "cell_type": "code",
   "execution_count": 6,
   "id": "bb80d480",
   "metadata": {},
   "outputs": [
    {
     "name": "stdout",
     "output_type": "stream",
     "text": [
      "8\n",
      "9\n",
      "10\n",
      "11\n",
      "12\n",
      "13\n",
      "14\n",
      "15\n",
      "16\n",
      "17\n",
      "18\n",
      "19\n"
     ]
    }
   ],
   "source": [
    "#Task 9\n",
    "\n",
    "array=[]\n",
    "for num in range(8,20):\n",
    "    array.append(str(num))\n",
    "    print(num)"
   ]
  },
  {
   "cell_type": "code",
   "execution_count": 7,
   "id": "faa8be9a",
   "metadata": {},
   "outputs": [
    {
     "name": "stdout",
     "output_type": "stream",
     "text": [
      "8 11 14 17 20 23 26 29 32 35 38 41 44 47 50 53 56 59 62 65 68 71 74 77 80 83 86 89\n"
     ]
    }
   ],
   "source": [
    "array=[]\n",
    "for num in range(8,90,3):\n",
    "    array.append(str(num))\n",
    "print(\" \".join(array))"
   ]
  },
  {
   "cell_type": "code",
   "execution_count": 8,
   "id": "543c8f3d",
   "metadata": {},
   "outputs": [
    {
     "name": "stdout",
     "output_type": "stream",
     "text": [
      "['8', '11', '14', '17', '20', '23', '26', '29', '32', '35', '38', '41', '44', '47', '50', '53', '56', '59', '62', '65', '68', '71', '74', '77', '80', '83', '86', '89']\n"
     ]
    }
   ],
   "source": [
    "array=[]\n",
    "for num in range(8,90,3):\n",
    "    array.append(str(num))\n",
    "print((array))"
   ]
  },
  {
   "cell_type": "code",
   "execution_count": 9,
   "id": "442a39d6",
   "metadata": {},
   "outputs": [
    {
     "name": "stdout",
     "output_type": "stream",
     "text": [
      "Enter your name: 'i am a machine learning engineer'\n",
      "Enter how many time do you want to show your name: 5\n",
      "'i am a machine learning engineer'\n",
      "'i am a machine learning engineer'\n",
      "'i am a machine learning engineer'\n",
      "'i am a machine learning engineer'\n",
      "'i am a machine learning engineer'\n"
     ]
    }
   ],
   "source": [
    "#Task 10\n",
    "Name=input(\"Enter your name: \")\n",
    "num=int(input(\"Enter how many time do you want to show your name: \"))\n",
    "for i in range(num):\n",
    "    print(Name)"
   ]
  },
  {
   "cell_type": "code",
   "execution_count": 1,
   "id": "ada060f6",
   "metadata": {},
   "outputs": [
    {
     "name": "stdout",
     "output_type": "stream",
     "text": [
      "Enter the height: 4\n",
      "\n",
      "*\n",
      "**\n",
      "***\n",
      "****\n"
     ]
    }
   ],
   "source": [
    "#Task 12\n",
    "height= int(input(\"Enter the height: \"))\n",
    "for i in range(height+1):\n",
    "    print(\"*\"*i)"
   ]
  },
  {
   "cell_type": "code",
   "execution_count": 59,
   "id": "c545ef73",
   "metadata": {},
   "outputs": [
    {
     "name": "stdout",
     "output_type": "stream",
     "text": [
      "Enter the height of the Diamond: 12\n",
      "           *\n",
      "          ***\n",
      "         *****\n",
      "        *******\n",
      "       *********\n",
      "      ***********\n",
      "     *************\n",
      "    ***************\n",
      "   *****************\n",
      "  *******************\n",
      " *********************\n",
      "***********************\n",
      " *********************\n",
      "  *******************\n",
      "   *****************\n",
      "    ***************\n",
      "     *************\n",
      "      ***********\n",
      "       *********\n",
      "        *******\n",
      "         *****\n",
      "          ***\n",
      "           *\n"
     ]
    }
   ],
   "source": [
    "#Task 13\n",
    "height = int(input(\"Enter the height of the Diamond: \"))\n",
    "\n",
    "for i in range(1,height+1):\n",
    "        print(\" \" * (height - i) + \"*\" * (2*i-1))\n",
    "for i in range(height-1,0,-1):\n",
    "        print(\" \" * (height - i) + \"*\" * (2*i-1))"
   ]
  },
  {
   "cell_type": "code",
   "execution_count": 62,
   "id": "f1652025",
   "metadata": {},
   "outputs": [
    {
     "name": "stdout",
     "output_type": "stream",
     "text": [
      "Enter the height for A: 11\n",
      "           *\n",
      "         *  *\n",
      "        *    *\n",
      "       *      *\n",
      "      *        *\n",
      "     ************\n",
      "    *            *\n",
      "   *              *\n",
      "  *                *\n",
      " *                  *\n",
      "*                    *\n"
     ]
    }
   ],
   "source": [
    "#Task 14\n",
    "lines = int(input(\"Enter the height for A: \"))\n",
    "def print_alphabet_pattern(lines):\n",
    "    for a in range(lines):\n",
    "        if a == 0:\n",
    "            print((lines - a) * ' ' + 1 * '*')\n",
    "        \n",
    "        elif a == lines // 2:\n",
    "            print((lines - a - 1) * ' ' + 1 * '*' + 2 * '*' * (a) + 1 * '*')\n",
    "        else:\n",
    "            print((lines - a - 1) * ' ' + 1 * '*' + 2 * ' ' * (a) + 1 * '*')\n",
    "\n",
    "print_alphabet_pattern(lines)"
   ]
  },
  {
   "cell_type": "code",
   "execution_count": 2,
   "id": "afd120a7",
   "metadata": {},
   "outputs": [
    {
     "name": "stdout",
     "output_type": "stream",
     "text": [
      "5 * 0 = 0\n",
      "5 * 1 = 5\n",
      "5 * 2 = 10\n",
      "5 * 3 = 15\n",
      "5 * 4 = 20\n",
      "5 * 5 = 25\n",
      "5 * 6 = 30\n",
      "5 * 7 = 35\n",
      "5 * 8 = 40\n",
      "5 * 9 = 45\n",
      "5 * 10 = 50\n"
     ]
    }
   ],
   "source": [
    "for n in range(11):\n",
    "     print(\"5 *\", n, \"=\", 5*n)"
   ]
  },
  {
   "cell_type": "code",
   "execution_count": 3,
   "id": "956975e8",
   "metadata": {},
   "outputs": [
    {
     "name": "stdout",
     "output_type": "stream",
     "text": [
      "4  * 0 = 40\n",
      "4  * 1 = 40\n",
      "4  * 2 = 40\n",
      "4  * 3 = 40\n",
      "4  * 4 = 40\n",
      "4  * 5 = 40\n",
      "4  * 6 = 40\n",
      "4  * 7 = 40\n",
      "4  * 8 = 40\n",
      "4  * 9 = 40\n",
      "4  * 10 = 40\n"
     ]
    }
   ],
   "source": [
    "for i in range(11):\n",
    "    print(\"4  *\", i ,\"=\", 4*n)"
   ]
  },
  {
   "cell_type": "code",
   "execution_count": null,
   "id": "40858c44",
   "metadata": {},
   "outputs": [],
   "source": []
  }
 ],
 "metadata": {
  "kernelspec": {
   "display_name": "Python 3 (ipykernel)",
   "language": "python",
   "name": "python3"
  },
  "language_info": {
   "codemirror_mode": {
    "name": "ipython",
    "version": 3
   },
   "file_extension": ".py",
   "mimetype": "text/x-python",
   "name": "python",
   "nbconvert_exporter": "python",
   "pygments_lexer": "ipython3",
   "version": "3.10.9"
  }
 },
 "nbformat": 4,
 "nbformat_minor": 5
}
