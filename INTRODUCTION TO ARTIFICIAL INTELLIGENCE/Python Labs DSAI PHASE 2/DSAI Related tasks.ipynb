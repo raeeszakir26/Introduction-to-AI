{
 "cells": [
  {
   "cell_type": "code",
   "execution_count": 2,
   "id": "a2745829",
   "metadata": {},
   "outputs": [
    {
     "name": "stdout",
     "output_type": "stream",
     "text": [
      "Enter the first side of the traingle: 3\n",
      "Enter the second side of the traingle: 3\n",
      "hypotenuse:  4.242640687119285\n"
     ]
    }
   ],
   "source": [
    "#Task 1\n",
    "base= float(input(\"Enter the first side of the traingle: \"))\n",
    "perpendicular= float(input(\"Enter the second side of the traingle: \"))\n",
    "def hypo(base, perpendicular):\n",
    "    form = base**2 + perpendicular**2\n",
    "    c = form**0.5\n",
    "    return c\n",
    "y= hypo(base, perpendicular)\n",
    "print(\"hypotenuse: \",y)"
   ]
  },
  {
   "cell_type": "code",
   "execution_count": 4,
   "id": "24e5ebdb",
   "metadata": {},
   "outputs": [
    {
     "name": "stdout",
     "output_type": "stream",
     "text": [
      "Enter the first Number: 2\n",
      "Enter the second Number: 2\n",
      "Enter the third Number: 2\n",
      "Enter the fourth Number: 2\n",
      "The distance between the two points is: 0.0\n"
     ]
    }
   ],
   "source": [
    "#Task 2\n",
    "def Distance():\n",
    "    Num_One = float(input(\"Enter the first Number: \"))\n",
    "    Num_Two = float(input(\"Enter the second Number: \"))\n",
    "    Num_Three = float(input(\"Enter the third Number: \"))\n",
    "    Num_Four = float(input(\"Enter the fourth Number: \"))\n",
    "    \n",
    "    return ((Num_One - Num_Three)**2 + (Num_Two - Num_Four)**2)**0.5\n",
    "result = Distance()\n",
    "\n",
    "print(\"The distance between the two points is:\", result)"
   ]
  },
  {
   "cell_type": "code",
   "execution_count": 6,
   "id": "45bfce6d",
   "metadata": {},
   "outputs": [
    {
     "name": "stdout",
     "output_type": "stream",
     "text": [
      "Enter a number between 1 - 9999: 3\n",
      "Reversed of given number is: 3\n"
     ]
    }
   ],
   "source": [
    "#Task 3\n",
    "Number= int((input(\"Enter a number between 1 - 9999: \")))\n",
    "if Number >=1 and Number <= 9999 :\n",
    "    def Reversed(Number):\n",
    "        Reverse_Num = str(Number)[::-1]\n",
    "        return Reverse_Num\n",
    "    Result = Reversed(Number)\n",
    "    print(\"Reversed of given number is:\",Result)\n",
    "else:\n",
    "    print(\"Please Enter a number between 1 - 9999!\")"
   ]
  },
  {
   "cell_type": "code",
   "execution_count": 9,
   "id": "15c8c8b1",
   "metadata": {},
   "outputs": [
    {
     "name": "stdout",
     "output_type": "stream",
     "text": [
      "Enter a number to find eather it's Prime_Number or not: 2\n",
      "It is Prime Number False\n"
     ]
    }
   ],
   "source": [
    "#Task 4\n",
    "Number = int(input(\"Enter a number to find eather it's Prime_Number or not: \"))\n",
    "def Prime(Number):\n",
    "    if Number%2 == 0 :\n",
    "        return False\n",
    "    else :\n",
    "        return True\n",
    "result=Prime(Number)\n",
    "print(\"It is Prime Number\",result)"
   ]
  },
  {
   "cell_type": "code",
   "execution_count": 8,
   "id": "e0c22948",
   "metadata": {},
   "outputs": [
    {
     "name": "stdout",
     "output_type": "stream",
     "text": [
      "Enter your Quality Number: 12\n",
      "12 on a point scale is 0\n"
     ]
    }
   ],
   "source": [
    "#Task 5\n",
    "Number = int(input(\"Enter your Quality Number: \"))\n",
    "def CGPA(Number):\n",
    "    if Number >= 90 and Number <=100:\n",
    "        return f\"{Number} on a point scale is 4\"\n",
    "    elif Number >= 80 and Number <=89:\n",
    "        return f\"{Number} on a point scale is 3\"\n",
    "    elif Number >= 70 and Number <=79:\n",
    "        return f\"{Number} on a point scale is 2\"\n",
    "    elif Number >= 60 and Number <=69:\n",
    "        return f\"{Number} on a point scale is 1\"\n",
    "    elif Number <= 59:\n",
    "        return f\"{Number} on a point scale is 0\"\n",
    "    else :\n",
    "        return (\"Enter Quality Number between 1 t0 100!\")\n",
    "print(CGPA(Number))"
   ]
  },
  {
   "cell_type": "code",
   "execution_count": 10,
   "id": "9c7702e5",
   "metadata": {},
   "outputs": [
    {
     "ename": "SyntaxError",
     "evalue": "invalid syntax (2894927646.py, line 1)",
     "output_type": "error",
     "traceback": [
      "\u001b[1;36m  Cell \u001b[1;32mIn[10], line 1\u001b[1;36m\u001b[0m\n\u001b[1;33m    Task 6\u001b[0m\n\u001b[1;37m         ^\u001b[0m\n\u001b[1;31mSyntaxError\u001b[0m\u001b[1;31m:\u001b[0m invalid syntax\n"
     ]
    }
   ],
   "source": [
    "Task 6\n",
    "number = int(input(\"Enter a four digit of number to find bouncy Number: \"))\n",
    "def is_bouncy(number):\n",
    "    Bouncy= str(number)\n",
    "    if Bouncy[:2] > Bouncy[2:4]:\n",
    "        return True\n",
    "    else :\n",
    "        return False\n",
    "print(\"It is Bouncy Number:\",is_bouncy(number))"
   ]
  },
  {
   "cell_type": "code",
   "execution_count": null,
   "id": "5dd50b41",
   "metadata": {},
   "outputs": [],
   "source": []
  }
 ],
 "metadata": {
  "kernelspec": {
   "display_name": "Python 3 (ipykernel)",
   "language": "python",
   "name": "python3"
  },
  "language_info": {
   "codemirror_mode": {
    "name": "ipython",
    "version": 3
   },
   "file_extension": ".py",
   "mimetype": "text/x-python",
   "name": "python",
   "nbconvert_exporter": "python",
   "pygments_lexer": "ipython3",
   "version": "3.10.9"
  }
 },
 "nbformat": 4,
 "nbformat_minor": 5
}
