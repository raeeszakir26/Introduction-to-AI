{
 "cells": [
  {
   "cell_type": "code",
   "execution_count": 1,
   "id": "a37b88b2",
   "metadata": {},
   "outputs": [
    {
     "name": "stdout",
     "output_type": "stream",
     "text": [
      "Hellow world\n"
     ]
    }
   ],
   "source": [
    "print(\"Hellow world\")"
   ]
  },
  {
   "cell_type": "code",
   "execution_count": 5,
   "id": "afc515ec",
   "metadata": {},
   "outputs": [
    {
     "name": "stdout",
     "output_type": "stream",
     "text": [
      "\n",
      "\n",
      "w w w w \n",
      "\n",
      "w w w w w \n",
      "\n",
      "w w w w w w \n",
      "\n",
      "w w w w w w w \n",
      "\n",
      "w w w w w w w w "
     ]
    }
   ],
   "source": [
    "for row in range(5):\n",
    "    print(\"\\n\")\n",
    "    for column in range(row+4):\n",
    "        print(\"w\",end=\" \")"
   ]
  },
  {
   "cell_type": "code",
   "execution_count": 9,
   "id": "9e792a27",
   "metadata": {},
   "outputs": [],
   "source": [
    "#1. Frist Question"
   ]
  },
  {
   "cell_type": "code",
   "execution_count": 8,
   "id": "be965ce4",
   "metadata": {},
   "outputs": [
    {
     "data": {
      "text/plain": [
       "48"
      ]
     },
     "execution_count": 8,
     "metadata": {},
     "output_type": "execute_result"
    }
   ],
   "source": [
    "6 * 8"
   ]
  },
  {
   "cell_type": "code",
   "execution_count": 11,
   "id": "74341e38",
   "metadata": {},
   "outputs": [
    {
     "data": {
      "text/plain": [
       "64"
      ]
     },
     "execution_count": 11,
     "metadata": {},
     "output_type": "execute_result"
    }
   ],
   "source": [
    "(4 ** 3)"
   ]
  },
  {
   "cell_type": "code",
   "execution_count": 14,
   "id": "8505e65f",
   "metadata": {},
   "outputs": [
    {
     "data": {
      "text/plain": [
       "-5"
      ]
     },
     "execution_count": 14,
     "metadata": {},
     "output_type": "execute_result"
    }
   ],
   "source": [
    "(-(-(-5)))"
   ]
  },
  {
   "cell_type": "code",
   "execution_count": 15,
   "id": "2312311d",
   "metadata": {},
   "outputs": [
    {
     "name": "stdout",
     "output_type": "stream",
     "text": [
      "number square cube\n",
      "0      0      0\n",
      "1      1      1\n",
      "2      4      8\n",
      "3      9      27\n",
      "4      16      64\n",
      "5      25      125\n",
      "6      36      216\n",
      "7      49      343\n",
      "8      64      512\n",
      "9      81      729\n",
      "10      100      1000\n"
     ]
    }
   ],
   "source": [
    "#2. Second Question\n",
    "print(\"number\", \"square\", \"cube\")\n",
    "for multi in range(11):  \n",
    "    one = multi *1\n",
    "    square = multi **2\n",
    "    cube = multi **3\n",
    "    print(one,\"    \", square,\"    \", cube)"
   ]
  },
  {
   "cell_type": "code",
   "execution_count": 17,
   "id": "06f82d36",
   "metadata": {},
   "outputs": [
    {
     "name": "stdout",
     "output_type": "stream",
     "text": [
      "Enter a value of X 24\n",
      "Enter a value of Y 60\n",
      "the reverse of X is  60\n",
      "the reverse of Y is  24\n"
     ]
    }
   ],
   "source": [
    "#3. Third Question\n",
    "x=int(input(\"Enter a value of X \"))\n",
    "y=int(input(\"Enter a value of Y \"))\n",
    "x = x + y\n",
    "y = x - y\n",
    "x = x - y\n",
    "print(\"the reverse of X is \",format(x))\n",
    "print(\"the reverse of Y is \",format(y))"
   ]
  },
  {
   "cell_type": "code",
   "execution_count": 19,
   "id": "d0aba046",
   "metadata": {},
   "outputs": [
    {
     "name": "stdout",
     "output_type": "stream",
     "text": [
      "Enter a Five digits: 123456789\n",
      "Reverse of entered number: 987654321\n"
     ]
    }
   ],
   "source": [
    "#Fourth Question\n",
    "number= int(input(\"Enter a Five digits: \"))\n",
    "reverse = 0\n",
    "while number > 0:\n",
    "    num1 = number % 10\n",
    "    reverse = reverse * 10 + num1\n",
    "    number = number//10\n",
    "print(\"Reverse of entered number:\",reverse)"
   ]
  },
  {
   "cell_type": "code",
   "execution_count": 22,
   "id": "67aaa724",
   "metadata": {},
   "outputs": [
    {
     "name": "stdout",
     "output_type": "stream",
     "text": [
      "\n",
      "********\n",
      "*           \n",
      "*      \n",
      "********\n",
      "       *\n",
      "       *\n",
      "********\n",
      " \n",
      "   **\n",
      " *    *\n",
      "*      *\n",
      "*********    \n",
      "*        *\n",
      "*         *\n",
      " \n",
      "   \n",
      "  *****\n",
      "    *   \n",
      "    *\n",
      "    *\n",
      "  *****  \n",
      " \n",
      "*           *\n",
      "*  \\     /  *\n",
      "*    \\ /    *\n",
      "*           *\n",
      "*           *\n",
      "*           *\n",
      " \n",
      "   **\n",
      " *    *\n",
      "*      *\n",
      "*********    \n",
      "*        *\n",
      "*         *\n",
      "\n"
     ]
    }
   ],
   "source": [
    "#5. Fifth Question\n",
    "S= '''\n",
    "********\n",
    "*           \n",
    "*      \n",
    "********\n",
    "       *\n",
    "       *\n",
    "********\n",
    "'''\n",
    "A = '''\n",
    "   **\n",
    " *    *\n",
    "*      *\n",
    "*********    \n",
    "*        *\n",
    "*         *\n",
    "'''\n",
    "I= '''\n",
    "   \n",
    "  *****\n",
    "    *   \n",
    "    *\n",
    "    *\n",
    "  *****  \n",
    "'''\n",
    "M= '''\n",
    "*           *\n",
    "*  \\     /  *\n",
    "*    \\ /    *\n",
    "*           *\n",
    "*           *\n",
    "*           *\n",
    "'''\n",
    "#5. Fifth Question\n",
    "S= '''\n",
    "********\n",
    "*           \n",
    "*      \n",
    "********\n",
    "       *\n",
    "       *\n",
    "********\n",
    "'''\n",
    "A = '''\n",
    "   **\n",
    " *    *\n",
    "*      *\n",
    "*********    \n",
    "*        *\n",
    "*         *\n",
    "'''\n",
    "I= '''\n",
    "   \n",
    "  *****\n",
    "    *   \n",
    "    *\n",
    "    *\n",
    "  *****  \n",
    "'''\n",
    "M= '''\n",
    "*           *\n",
    "*  \\     /  *\n",
    "*    \\ /    *\n",
    "*           *\n",
    "*           *\n",
    "*           *\n",
    "'''\n",
    "A = '''\n",
    "   **\n",
    " *    *\n",
    "*      *\n",
    "*********    \n",
    "*        *\n",
    "*         *\n",
    "'''\n",
    "\n",
    "print(S,A,I,M,A)"
   ]
  },
  {
   "cell_type": "code",
   "execution_count": 23,
   "id": "38a1dd53",
   "metadata": {},
   "outputs": [
    {
     "name": "stdout",
     "output_type": "stream",
     "text": [
      "\n",
      "********\n",
      "*      *\n",
      "*      *\n",
      "*      *\n",
      "********\n",
      " \n",
      "   **\n",
      " *    *\n",
      "*      *\n",
      " *    *\n",
      "   **\n",
      " \n",
      "    *\n",
      "   ***\n",
      "  *****\n",
      "    *   \n",
      "    *\n",
      "    *\n",
      "    *\n",
      " \n",
      "    *\n",
      "  *   *\n",
      " *     *\n",
      "  *   *\n",
      "    *\n",
      "\n"
     ]
    }
   ],
   "source": [
    "box = '''\n",
    "********\n",
    "*      *\n",
    "*      *\n",
    "*      *\n",
    "********\n",
    "'''\n",
    "oval = '''\n",
    "   **\n",
    " *    *\n",
    "*      *\n",
    " *    *\n",
    "   **\n",
    "'''\n",
    "arrow = '''\n",
    "    *\n",
    "   ***\n",
    "  *****\n",
    "    *   \n",
    "    *\n",
    "    *\n",
    "    *\n",
    "'''\n",
    "diamond = '''\n",
    "    *\n",
    "  *   *\n",
    " *     *\n",
    "  *   *\n",
    "    *\n",
    "'''\n",
    "print(box, oval,arrow, diamond)"
   ]
  },
  {
   "cell_type": "code",
   "execution_count": 1,
   "id": "988fb4d0",
   "metadata": {},
   "outputs": [
    {
     "name": "stdout",
     "output_type": "stream",
     "text": [
      "Enter first nonzero integer: 3\n",
      "Enter second nonzero integer: 3\n",
      "Enter third nonzero integer: 3\n",
      "The three integers are not the sides of a right traingle\n"
     ]
    }
   ],
   "source": [
    "#6. Sixth Question\n",
    "\n",
    "a= int(input(\"Enter first nonzero integer: \"))\n",
    "b= int(input(\"Enter second nonzero integer: \"))\n",
    "c= int(input(\"Enter third nonzero integer: \"))\n",
    "if a > 0 and b > 0 and c > 0 :\n",
    "    if a**2 + b**2 == c**2 or c**2 + b**2 == a**2 or a**2 + c**2 == b**2: \n",
    "        print(\"The three integers are the sides of a right traingle\")\n",
    "    else:\n",
    "        print(\"The three integers are not the sides of a right traingle\")\n",
    "else:\n",
    "    print(\"Please enter integers greater then zero\")"
   ]
  },
  {
   "cell_type": "code",
   "execution_count": 43,
   "id": "bb0dde0f",
   "metadata": {},
   "outputs": [
    {
     "name": "stdout",
     "output_type": "stream",
     "text": [
      "Enter a number between 0.0 to 1.0: 0.5\n",
      "Grade = F\n"
     ]
    }
   ],
   "source": [
    "#7. Seventh Question\n",
    "\n",
    "score = float(input(\"Enter a number between 0.0 to 1.0: \"))\n",
    "\n",
    "if 0.0 <= score <= 1.0:\n",
    "    if score >= 0.9:\n",
    "        print(\"Grade = A\")\n",
    "    elif 0.8 <= score < 0.9:\n",
    "        print(\"Grade = B\")\n",
    "    elif 0.7 <= score < 0.8:\n",
    "        print(\"Grade = C\")\n",
    "    elif 0.6 <= score < 0.7:\n",
    "        print(\"Grade = D\")\n",
    "    elif 0.0 <= score < 0.6:\n",
    "        print(\"Grade = F\")\n",
    "else:\n",
    "    print(\"Error: Please enter a number in the range between 0.0 to 1.0.\")\n"
   ]
  },
  {
   "cell_type": "code",
   "execution_count": 44,
   "id": "b385f1e6",
   "metadata": {},
   "outputs": [
    {
     "name": "stdout",
     "output_type": "stream",
     "text": [
      "Enter hour from 1 to 12: 11\n",
      "Select 1(am) or 2(pm):1\n",
      "How many hours ahead? 11\n",
      "New Hour = 22 pm\n"
     ]
    }
   ],
   "source": [
    "#Bonus: 1\n",
    "\n",
    "Hour = int(input(\"Enter hour from 1 to 12: \"))\n",
    "if Hour >=1 and Hour <=12:\n",
    "    pm_am = int(input(\"Select 1(am) or 2(pm):\"))\n",
    "    if pm_am == 1 :\n",
    "        new_hour=int(input(\"How many hours ahead? \"))\n",
    "        new_hour += Hour\n",
    "        if new_hour > 12 :\n",
    "            print(\"New Hour =\", new_hour, \"pm\")\n",
    "        else:\n",
    "            print(\"New Hour =\", new_hour, \"am\")\n",
    "    elif pm_am == 2:\n",
    "        new_hour=int(input(\"How many hours ahead? \"))\n",
    "        new_hour += Hour\n",
    "        if new_hour > 12 :\n",
    "            print(\"New Hour =\", new_hour, \"am\")\n",
    "        else:\n",
    "            print(\"New Hour =\", new_hour, \"pm\")\n",
    "    else:\n",
    "        print(\"Please Select am or pm by 1 and 2\")\n",
    "else:\n",
    "    print(\"Please enter number from 1 to 12\")"
   ]
  },
  {
   "cell_type": "code",
   "execution_count": 46,
   "id": "0dedd17d",
   "metadata": {},
   "outputs": [
    {
     "name": "stdout",
     "output_type": "stream",
     "text": [
      "Enter a five digits number :11211\n",
      "11211 is a palindrome\n"
     ]
    }
   ],
   "source": [
    "#Bones: 2\n",
    "\n",
    "num = input(\"Enter a five digits number :\")\n",
    "if len(num) == 5:\n",
    "    if num == num[::-1]:\n",
    "        print(num[::-1], \"is a palindrome\")\n",
    "    else:\n",
    "        print(num[::-1], \"is not a palindrome\")\n",
    "else:\n",
    "    print(\"Enter a five digits number\")"
   ]
  },
  {
   "cell_type": "code",
   "execution_count": null,
   "id": "c8b566f7",
   "metadata": {},
   "outputs": [],
   "source": []
  }
 ],
 "metadata": {
  "kernelspec": {
   "display_name": "Python 3 (ipykernel)",
   "language": "python",
   "name": "python3"
  },
  "language_info": {
   "codemirror_mode": {
    "name": "ipython",
    "version": 3
   },
   "file_extension": ".py",
   "mimetype": "text/x-python",
   "name": "python",
   "nbconvert_exporter": "python",
   "pygments_lexer": "ipython3",
   "version": "3.10.9"
  }
 },
 "nbformat": 4,
 "nbformat_minor": 5
}
